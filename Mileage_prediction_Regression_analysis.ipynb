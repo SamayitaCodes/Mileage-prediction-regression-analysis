{
  "nbformat": 4,
  "nbformat_minor": 0,
  "metadata": {
    "colab": {
      "provenance": []
    },
    "kernelspec": {
      "name": "python3",
      "display_name": "Python 3"
    },
    "language_info": {
      "name": "python"
    }
  },
  "cells": [
    {
      "cell_type": "code",
      "execution_count": null,
      "metadata": {
        "id": "Ngst1mBFP5O2"
      },
      "outputs": [],
      "source": [
        "# Step 1: Import necessary libraries\n",
        "import pandas as pd\n",
        "import numpy as np\n",
        "import seaborn as sns\n",
        "import matplotlib.pyplot as plt\n",
        "from sklearn.model_selection import train_test_split\n",
        "from sklearn.linear_model import LinearRegression\n",
        "from sklearn.metrics import mean_squared_error, r2_score\n",
        "\n",
        "# Step 2: Load and explore the data\n",
        "mpg = sns.load_dataset('mpg')\n",
        "print(mpg.head())\n",
        "print(mpg.info())\n",
        "\n",
        "# Step 3: Preprocess the data\n",
        "# Drop rows with missing values\n",
        "mpg.dropna(inplace=True)\n",
        "\n",
        "# Encode categorical variables if necessary\n",
        "mpg = pd.get_dummies(mpg, columns=['origin', 'name'], drop_first=True)\n",
        "\n",
        "# Define features and target variable\n",
        "X = mpg.drop(columns=['mpg'])\n",
        "y = mpg['mpg']\n",
        "\n",
        "# Step 4: Split the data into training and testing sets\n",
        "X_train, X_test, y_train, y_test = train_test_split(X, y, test_size=0.2, random_state=42)\n",
        "\n",
        "# Step 5: Train the model\n",
        "model = LinearRegression()\n",
        "model.fit(X_train, y_train)\n",
        "\n",
        "# Step 6: Evaluate the model\n",
        "y_pred = model.predict(X_test)\n",
        "\n",
        "# Calculate metrics\n",
        "mse = mean_squared_error(y_test, y_pred)\n",
        "r2 = r2_score(y_test, y_pred)\n",
        "\n",
        "print(f\"Mean Squared Error: {mse}\")\n",
        "print(f\"R^2 Score: {r2}\")\n",
        "\n",
        "# Plotting the results\n",
        "plt.scatter(y_test, y_pred)\n",
        "plt.xlabel('Actual MPG')\n",
        "plt.ylabel('Predicted MPG')\n",
        "plt.title('Actual vs Predicted MPG')\n",
        "plt.show()\n"
      ]
    }
  ]
}